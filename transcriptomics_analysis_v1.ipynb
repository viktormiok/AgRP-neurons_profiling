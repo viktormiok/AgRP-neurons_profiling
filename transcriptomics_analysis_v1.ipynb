{
 "cells": [
  {
   "cell_type": "markdown",
   "metadata": {},
   "source": [
    "# Analysis of the astrocytes RNA-seq data from HPT, CTX, and Hippo  "
   ]
  },
  {
   "cell_type": "markdown",
   "metadata": {},
   "source": [
    "## Table of contents:\n",
    "\n",
    "* <a href=#Load>Load packages and set global variables</a>\n",
    "* <a href=#Dataloading>Loading data, preprocessing and make DEseq object</a>\n",
    "* <a href=#Visualisataion>Visualisation of the data</a>\n",
    "* <a href=#DGE>Differential gene expression - diet effect</a>\n",
    "* <a href=#Celltype>Heatmap marker genes</a>\n",
    "* <a href=#HeatmapDGE>Heatmap DGE</a>\n",
    "* <a href=#GOenrichment>GO pathway enrichment</a>"
   ]
  },
  {
   "cell_type": "markdown",
   "metadata": {},
   "source": [
    "## Load packages and set global variables"
   ]
  },
  {
   "cell_type": "code",
   "execution_count": 1,
   "metadata": {},
   "outputs": [
    {
     "name": "stderr",
     "output_type": "stream",
     "text": [
      "Warning message:\n",
      "“package ‘readxl’ was built under R version 4.0.5”\n",
      "Warning message:\n",
      "“package ‘tidyr’ was built under R version 4.0.5”\n",
      "Warning message:\n",
      "“package ‘readr’ was built under R version 4.0.5”\n",
      "Warning message:\n",
      "“package ‘dplyr’ was built under R version 4.0.5”\n"
     ]
    }
   ],
   "source": [
    "inst = suppressMessages(lapply(c('DESeq2',\n",
    "                                 'vidger',\n",
    "                                 'pheatmap',\n",
    "                                 'ggplot2',\n",
    "                                 'EnhancedVolcano',\n",
    "                                 'VennDiagram',\n",
    "                                 'org.Mm.eg.db',\n",
    "                                 'clusterProfiler',\n",
    "                                 'UpSetR',\n",
    "                                 'readxl',\n",
    "                                 'tidyverse',\n",
    "                                 'KEGGREST'),\n",
    "                               library,\n",
    "                               character.only=TRUE)\n",
    ") "
   ]
  },
  {
   "cell_type": "code",
   "execution_count": 2,
   "metadata": {},
   "outputs": [],
   "source": [
    "setwd(\"/Users/viktorian.miok/Documents/consultation/Ismael/RNAseq_Agrp\")\n",
    "options(repr.plot.width=8, repr.plot.height=8)\n",
    "my_palette = colorRampPalette(c(\"blue\", \"white\", \"red\"))(n=255)"
   ]
  },
  {
   "cell_type": "markdown",
   "metadata": {},
   "source": [
    "Set whether anndata objects are recomputed or loaded."
   ]
  },
  {
   "cell_type": "code",
   "execution_count": 3,
   "metadata": {},
   "outputs": [],
   "source": [
    "bool_recomp = TRUE"
   ]
  },
  {
   "cell_type": "markdown",
   "metadata": {},
   "source": [
    "Set whether to produce plots, set to False for test runs."
   ]
  },
  {
   "cell_type": "code",
   "execution_count": 4,
   "metadata": {},
   "outputs": [],
   "source": [
    "bool_plot = TRUE"
   ]
  },
  {
   "cell_type": "markdown",
   "metadata": {},
   "source": [
    "## Loading data, preprocessing and make DEseq object "
   ]
  },
  {
   "cell_type": "code",
   "execution_count": 5,
   "metadata": {},
   "outputs": [],
   "source": [
    "dat <- read.csv(file=\"./data/data_raw.csv\", \n",
    "                header=TRUE,\n",
    "                row.names=1,\n",
    "                sep=\",\")[,-1]"
   ]
  },
  {
   "cell_type": "code",
   "execution_count": 6,
   "metadata": {},
   "outputs": [
    {
     "name": "stderr",
     "output_type": "stream",
     "text": [
      "Warning message in DESeqDataSet(se, design = design, ignoreRank):\n",
      "“some variables in design formula are characters, converting to factors”\n",
      "  Note: levels of factors in the design contain characters other than\n",
      "  letters, numbers, '_' and '.'. It is recommended (but not required) to use\n",
      "  only letters, numbers, and delimiters '_' or '.', as these are safe characters\n",
      "  for column names in R. [This is a message, not a warning or an error]\n",
      "\n",
      "estimating size factors\n",
      "\n",
      "  Note: levels of factors in the design contain characters other than\n",
      "  letters, numbers, '_' and '.'. It is recommended (but not required) to use\n",
      "  only letters, numbers, and delimiters '_' or '.', as these are safe characters\n",
      "  for column names in R. [This is a message, not a warning or an error]\n",
      "\n",
      "estimating dispersions\n",
      "\n",
      "gene-wise dispersion estimates\n",
      "\n",
      "mean-dispersion relationship\n",
      "\n",
      "  Note: levels of factors in the design contain characters other than\n",
      "  letters, numbers, '_' and '.'. It is recommended (but not required) to use\n",
      "  only letters, numbers, and delimiters '_' or '.', as these are safe characters\n",
      "  for column names in R. [This is a message, not a warning or an error]\n",
      "\n",
      "final dispersion estimates\n",
      "\n",
      "  Note: levels of factors in the design contain characters other than\n",
      "  letters, numbers, '_' and '.'. It is recommended (but not required) to use\n",
      "  only letters, numbers, and delimiters '_' or '.', as these are safe characters\n",
      "  for column names in R. [This is a message, not a warning or an error]\n",
      "\n",
      "fitting model and testing\n",
      "\n"
     ]
    }
   ],
   "source": [
    "if(bool_recomp){  \n",
    "    # make a meta data\n",
    "    id = c(\"21L011015\",\"21L011016\",\"21L011017\",\"21L011018\",\"21L011019\",\"21L011020\",\"21L011021\",\n",
    "           \"21L011022\",\"21L011023\",\"21L011024\",\"21L011025\",\"21L011026\") # \"21L011014\",\n",
    "\n",
    "    condition = c(\"DREADD\",\"DREADD\",\"DREADD\",\"HFHS DIET\",\"HFHS DIET\",\"HFHS DIET\",\"HFHS DIET\",\"DREADD\",\n",
    "                  \"SC DIET\",\"SC DIET\",\"SC DIET\",\"SC DIET\")\n",
    "\n",
    "    metaData=data.frame(id, condition)\n",
    "\n",
    "    keep <- rowSums(dat >= 10) >= 5\n",
    "    dat <- dat[keep,]\n",
    "\n",
    "    #make a deseq2 object\n",
    "    dds <- DESeqDataSetFromMatrix(countData=dat,\n",
    "                                  colData=metaData, \n",
    "                                  design =~ condition\n",
    "    )\n",
    "    dds <- DESeq(dds)\n",
    "    save(dds, file=\"data/dds.RData\")\n",
    "} else {\n",
    "    load(\"data/dds.RData\")\n",
    "}"
   ]
  },
  {
   "cell_type": "markdown",
   "metadata": {},
   "source": [
    "## Visualisation of the data"
   ]
  },
  {
   "cell_type": "code",
   "execution_count": 7,
   "metadata": {},
   "outputs": [],
   "source": [
    "# variance stabilizing transformation data\n",
    "vsd = assay(vst(dds, blind=TRUE))"
   ]
  },
  {
   "cell_type": "code",
   "execution_count": 8,
   "metadata": {},
   "outputs": [
    {
     "data": {
      "text/html": [
       "<strong>pdf:</strong> 2"
      ],
      "text/latex": [
       "\\textbf{pdf:} 2"
      ],
      "text/markdown": [
       "**pdf:** 2"
      ],
      "text/plain": [
       "pdf \n",
       "  2 "
      ]
     },
     "metadata": {},
     "output_type": "display_data"
    }
   ],
   "source": [
    "pdf(file=\"results/PCA.pdf\", width=10, height=10)\n",
    "    pcaData <- plotPCA(vst(dds),\n",
    "                       intgroup=c(\"condition\"),\n",
    "                       returnData=TRUE\n",
    "    )\n",
    "    percentVar = round(100 * attr(pcaData, \"percentVar\"))\n",
    "\n",
    "    ggplot(pcaData, aes(x=PC1, y=PC2, color=condition)) +\n",
    "           geom_point(aes(color=condition), size=5) + \n",
    "           geom_point(shape=1, color=\"black\", size=5) + \n",
    "           xlab(paste0(\"PC1: \",percentVar[1], \"% variance\")) + \n",
    "           ylab(paste0(\"PC2: \",percentVar[2], \"% variance\")) +\n",
    "           theme(axis.text=element_text(size=20), \n",
    "                 axis.title=element_text(size=20), \n",
    "                 legend.title=element_text(size=20),\n",
    "                 legend.text=element_text(size=20),\n",
    "                 plot.title=element_text(size=20)) + \n",
    "           scale_color_manual(values=c(\"chartreuse\", \"cornflowerblue\", \"red\"))\n",
    "dev.off()"
   ]
  },
  {
   "cell_type": "code",
   "execution_count": 9,
   "metadata": {
    "scrolled": false
   },
   "outputs": [],
   "source": [
    "if(bool_plot){  \n",
    "    pheatmap(vsd,\n",
    "             cluster_rows=TRUE, \n",
    "             cluster_cols=TRUE, \n",
    "             scale=\"row\", \n",
    "             show_rownames=FALSE, \n",
    "             color=my_palette,\n",
    "             filename=\"results/heatmap_all_data.pdf\",\n",
    "             annotation_col=as.data.frame(colData(dds)[,c(\"id\", \"condition\")]),\n",
    "             fontsize=10,\n",
    "             width=10,\n",
    "             height=10,\n",
    "             breaks=seq(-3, 3, length.out=255)\n",
    "    )\n",
    "}"
   ]
  },
  {
   "cell_type": "markdown",
   "metadata": {},
   "source": [
    "## Differential gene expression - diet effect"
   ]
  },
  {
   "cell_type": "code",
   "execution_count": 10,
   "metadata": {},
   "outputs": [],
   "source": [
    "if(bool_recomp){ \n",
    "    dread_sc <- results(dds,\n",
    "                        contrast=c(\"condition\", \"DREADD\", \"SC DIET\")\n",
    "    )\n",
    "    hfhs_sc <- results(dds, \n",
    "                       contrast=c(\"condition\", \"HFHS DIET\", \"SC DIET\")\n",
    "    )\n",
    "    hfhs_dread <- results(dds, \n",
    "                          contrast=c(\"condition\", \"HFHS DIET\", \"DREADD\")\n",
    "    )\n",
    "\n",
    "    dge <- list(dread_sc=as.data.frame(dread_sc[complete.cases(dread_sc), ]),\n",
    "                hfhs_sc=as.data.frame(hfhs_sc[complete.cases(hfhs_sc), ]),\n",
    "                hfhs_dread=as.data.frame(hfhs_dread[complete.cases(hfhs_dread), ])\n",
    "    )\n",
    "    save(dge, file=\"data/dge.RData\")\n",
    "} else {\n",
    "    load(\"data/dge.RData\")\n",
    "}"
   ]
  },
  {
   "cell_type": "code",
   "execution_count": 11,
   "metadata": {},
   "outputs": [
    {
     "name": "stderr",
     "output_type": "stream",
     "text": [
      "Warning message:\n",
      "“Removed 2 rows containing missing values (geom_vline).”\n"
     ]
    },
    {
     "data": {
      "text/html": [
       "<strong>pdf:</strong> 2"
      ],
      "text/latex": [
       "\\textbf{pdf:} 2"
      ],
      "text/markdown": [
       "**pdf:** 2"
      ],
      "text/plain": [
       "pdf \n",
       "  2 "
      ]
     },
     "metadata": {},
     "output_type": "display_data"
    }
   ],
   "source": [
    "pdf(file=\"results/volcano_DREADD_vs_SC.pdf\", width=10, height=10)\n",
    "    EnhancedVolcano(dge$dread_sc,\n",
    "                    lab=rownames(dge$dread_sc),\n",
    "                    pCutoff=0.05,\n",
    "                    FCcutoff=100,\n",
    "                    axisLabSize=30,\n",
    "                    x='log2FoldChange',\n",
    "                    y='padj',\n",
    "                    title=NULL,\n",
    "                    subtitle=NULL,\n",
    "                    caption=NULL,\n",
    "                    ylim=c(0, 3),\n",
    "                    xlim=c(-3, 3),\n",
    "                    col=c(\"grey30\", \"grey30\", \"red2\", \"red2\"),\n",
    "                    legendLabels=c('NS', expression(Log[2]~FC), 'p-value>0.05', expression(p-value~and~log[2]~FC)),\n",
    "                    legendLabSize=20\n",
    "    )\n",
    "dev.off()"
   ]
  },
  {
   "cell_type": "code",
   "execution_count": 12,
   "metadata": {},
   "outputs": [
    {
     "name": "stderr",
     "output_type": "stream",
     "text": [
      "Warning message:\n",
      "“Removed 2 rows containing missing values (geom_vline).”\n"
     ]
    },
    {
     "data": {
      "text/html": [
       "<strong>pdf:</strong> 2"
      ],
      "text/latex": [
       "\\textbf{pdf:} 2"
      ],
      "text/markdown": [
       "**pdf:** 2"
      ],
      "text/plain": [
       "pdf \n",
       "  2 "
      ]
     },
     "metadata": {},
     "output_type": "display_data"
    }
   ],
   "source": [
    "pdf(file=\"results/volcano_HFHS_vs_SC.pdf\", width=10, height=10)\n",
    "    EnhancedVolcano(dge$hfhs_sc,\n",
    "                    lab=rownames(dge$hfhs_sc),\n",
    "                    pCutoff=0.05,\n",
    "                    FCcutoff=100,\n",
    "                    axisLabSize=30,\n",
    "                    x='log2FoldChange',\n",
    "                    y='padj',\n",
    "                    title=NULL,\n",
    "                    subtitle=NULL,\n",
    "                    caption=NULL,\n",
    "                    ylim=c(0, 3),\n",
    "                    xlim=c(-3, 3),\n",
    "                    col=c(\"grey30\", \"grey30\", \"red2\", \"red2\"),\n",
    "                    legendLabels=c('NS', expression(Log[2]~FC), 'p-value>0.05', expression(p-value~and~log[2]~FC)),\n",
    "                    legendLabSize=20\n",
    "    )\n",
    "dev.off()"
   ]
  },
  {
   "cell_type": "code",
   "execution_count": 13,
   "metadata": {},
   "outputs": [
    {
     "name": "stderr",
     "output_type": "stream",
     "text": [
      "Warning message:\n",
      "“Removed 2 rows containing missing values (geom_vline).”\n"
     ]
    },
    {
     "data": {
      "text/html": [
       "<strong>pdf:</strong> 2"
      ],
      "text/latex": [
       "\\textbf{pdf:} 2"
      ],
      "text/markdown": [
       "**pdf:** 2"
      ],
      "text/plain": [
       "pdf \n",
       "  2 "
      ]
     },
     "metadata": {},
     "output_type": "display_data"
    }
   ],
   "source": [
    "pdf(file=\"results/volcano_HFHS_vs_DREADD.pdf\", width=10, height=10)\n",
    "    EnhancedVolcano(dge$hfhs_dread,\n",
    "                    lab=rownames(dge$hfhs_dread),\n",
    "                    pCutoff=0.05,\n",
    "                    FCcutoff=100,\n",
    "                    axisLabSize=30,\n",
    "                    x='log2FoldChange',\n",
    "                    y='padj',\n",
    "                    title=NULL,\n",
    "                    subtitle=NULL,\n",
    "                    caption=NULL,\n",
    "                    ylim=c(0, 3),\n",
    "                    xlim=c(-3, 3),\n",
    "                    col=c(\"grey30\", \"grey30\", \"red2\", \"red2\"),\n",
    "                    legendLabels=c('NS', expression(Log[2]~FC), 'p-value>0.05', expression(p-value~and~log[2]~FC)),\n",
    "                    legendLabSize=20\n",
    "    )\n",
    "dev.off()"
   ]
  },
  {
   "cell_type": "code",
   "execution_count": 14,
   "metadata": {},
   "outputs": [
    {
     "data": {
      "text/html": [
       "<strong>pdf:</strong> 2"
      ],
      "text/latex": [
       "\\textbf{pdf:} 2"
      ],
      "text/markdown": [
       "**pdf:** 2"
      ],
      "text/plain": [
       "pdf \n",
       "  2 "
      ]
     },
     "metadata": {},
     "output_type": "display_data"
    }
   ],
   "source": [
    "pdf(file=\"results/Nr_sig_DGE\", width=10, height=10)\n",
    "    df = data.frame(Tissue=c(\"DREADD_vs_SC\", \"HFHS_vs_SC\", \"HFHS_vs_DREADD\"),\n",
    "                    Nr_significant_genes=c(sum(dge$dread_sc[,6] < 0.05, na.rm=TRUE),\n",
    "                                           sum(dge$hfhs_sc[,6] < 0.05, na.rm=TRUE),\n",
    "                                           sum(dge$hfhs_dread[,6] < 0.05, na.rm=TRUE))\n",
    "    )\n",
    "    ggplot(df, aes(x=Tissue, y=Nr_significant_genes, fill=Tissue))  +\n",
    "           geom_bar(stat=\"identity\") + \n",
    "            theme(axis.text=element_text(size=20), \n",
    "                  axis.title=element_text(size=20), \n",
    "                  legend.title=element_text(siz=20),\n",
    "                  legend.text=element_text(size=20),\n",
    "                  plot.title=element_text(size=20)) +\n",
    "           theme(legend.position=\"none\") +\n",
    "           ggtitle(\"Number significant genes (p<0.05)\") +\n",
    "           scale_fill_manual(values=c(\"lightblue\", \"tan1\", \"lightgreen\"))\n",
    "dev.off()"
   ]
  },
  {
   "cell_type": "code",
   "execution_count": 15,
   "metadata": {},
   "outputs": [
    {
     "data": {
      "text/html": [
       "<strong>pdf:</strong> 2"
      ],
      "text/latex": [
       "\\textbf{pdf:} 2"
      ],
      "text/markdown": [
       "**pdf:** 2"
      ],
      "text/plain": [
       "pdf \n",
       "  2 "
      ]
     },
     "metadata": {},
     "output_type": "display_data"
    }
   ],
   "source": [
    "pdf(file=\"results/venn_DEG.pdf\", width=8, height=8)\n",
    "    vp = venn.diagram(list('DREADD_vs_SC'=rownames(dge$dread_sc[dge$dread_sc[,6] < 0.05,]), \n",
    "                           'HFHS_vs_SC'=rownames(dge$hfhs_sc[dge$hfhs_sc[,6] < 0.05,]),\n",
    "                           'HFHS_vs_DREADD'=rownames(dge$hfhs_dread[dge$hfhs_dread[,6] < 0.05,])),\n",
    "                     fill=c(\"orange\", \"mediumpurple1\", \"lightgreen\"),\n",
    "                     filename=NULL,\n",
    "                     cex=3.5, \n",
    "                     #col=\"transparent\",\n",
    "                     cat.cex=1.1,\n",
    "                     margin=0.01,\n",
    "                     main.cex=3,\n",
    "                     main=NULL);\n",
    "    grid.draw(vp)  \n",
    "    #overlap <- calculate.overlap(venn.diagram(list('DREADD_vs_SC'=rownames(dge$dread_sc[dge$dread_sc[,6]<0.05,]), \n",
    "    #                                               'HFHS_vs_SC'=rownames(dge$hfhs_sc[dge$hfhs_sc[,6]<0.05,]),\n",
    "    #                                               'HFHS_vs_DREADD'=rownames(dge$hfhs_dread[dge$hfhs_dread[,6]<0.05,])))\n",
    "dev.off()"
   ]
  },
  {
   "cell_type": "markdown",
   "metadata": {},
   "source": [
    "## Heatmap DGE"
   ]
  },
  {
   "cell_type": "markdown",
   "metadata": {},
   "source": [
    "#### DREADD vs. SC"
   ]
  },
  {
   "cell_type": "code",
   "execution_count": 16,
   "metadata": {},
   "outputs": [],
   "source": [
    "if(bool_plot){  \n",
    "    vsd_dread_sc = vsd[rownames(vsd)%in%rownames(dge$dread_sc[dge$dread_sc[,6] < 0.05,]),] \n",
    "    pheatmap(vsd_dread_sc[,c(1:3,9:12)], \n",
    "             scale=\"row\",\n",
    "             show_rownames=FALSE,\n",
    "             show_colnames=TRUE,\n",
    "             color=my_palette, \n",
    "             cluster_cols=FALSE,\n",
    "             legend=FALSE,\n",
    "             fontsize=15,\n",
    "             filename=\"results/heatmap_DREADD-SC.pdf\",\n",
    "             width=5,\n",
    "             height=8,\n",
    "             breaks=seq(-2, 2, length.out=255)\n",
    "    ) \n",
    "    write.csv(dge$dread_sc[dge$dread_sc[,6] < 0.05,], \n",
    "              file=\"tables/DEG_dread_sc.csv\",\n",
    "              row.names=TRUE\n",
    "    )\n",
    "}"
   ]
  },
  {
   "cell_type": "markdown",
   "metadata": {},
   "source": [
    "#### HFHS vs. SC"
   ]
  },
  {
   "cell_type": "code",
   "execution_count": 17,
   "metadata": {},
   "outputs": [],
   "source": [
    "if(bool_plot){  \n",
    "    vsd_hfhs_sc = vsd[rownames(vsd)%in%rownames(dge$hfhs_sc[dge$hfhs_sc[,6] < 0.05,]),] \n",
    "    pheatmap(vsd_hfhs_sc[,c(4:7,9:12)], \n",
    "             scale=\"row\",\n",
    "             show_rownames=FALSE,\n",
    "             show_colnames=TRUE,\n",
    "             color=my_palette, \n",
    "             cluster_cols=FALSE,\n",
    "             legend=FALSE,\n",
    "             fontsize=15,\n",
    "             filename=\"results/heatmap_HFHS-SC.pdf\",\n",
    "             width=5,\n",
    "             height=8,\n",
    "             breaks=seq(-2, 2, length.out=255)\n",
    "    ) \n",
    "    write.csv(dge$hfhs_sc[dge$hfhs_sc[,6] < 0.05,], \n",
    "              file=\"tables/DEG_hfhs_sc.csv\",\n",
    "              row.names=TRUE\n",
    "    )\n",
    "}"
   ]
  },
  {
   "cell_type": "markdown",
   "metadata": {},
   "source": [
    "#### HFHS vs. DREADD"
   ]
  },
  {
   "cell_type": "code",
   "execution_count": 18,
   "metadata": {},
   "outputs": [],
   "source": [
    "if(bool_plot){  \n",
    "    vsd_hfhs_dread = vsd[rownames(vsd)%in%rownames(dge$hfhs_dread[dge$hfhs_dread[,6] < 0.05,]),] \n",
    "    pheatmap(vsd_hfhs_dread[,c(1:3,8,4:7)], \n",
    "             scale=\"row\",\n",
    "             show_rownames=FALSE,\n",
    "             show_colnames=TRUE,\n",
    "             color=my_palette, \n",
    "             cluster_cols=FALSE,\n",
    "             legend=FALSE,\n",
    "             fontsize=15,\n",
    "             filename=\"results/heatmap_HFHS-DREADD.pdf\",\n",
    "             width=5,\n",
    "             height=8,\n",
    "             breaks=seq(-2, 2, length.out=255)\n",
    "    ) \n",
    "    write.csv(dge$hfhs_dread[dge$hfhs_dread[,6] < 0.05,], \n",
    "              file=\"tables/DEG_hfhs_dread.csv\",\n",
    "              row.names=TRUE\n",
    "    )\n",
    "}"
   ]
  },
  {
   "cell_type": "markdown",
   "metadata": {},
   "source": [
    "## Plot the genes"
   ]
  },
  {
   "cell_type": "code",
   "execution_count": 19,
   "metadata": {},
   "outputs": [],
   "source": [
    "genes = c('Agrp','Npy','Pomc','Oxt','Avp','Gfap','Iba1','Vim', #general\n",
    "          'Aldh1l1','Aqp4','Atp1b2','Gfap','Gja1','Gjb6','S100b','Slc1a2','Slc1a3',  # astrocytes\n",
    "          'Snap25','Syp','Syt1','Tubb3',  #neurons\n",
    "          'Aif1','Itgam',   # microglia\n",
    "          'Mag','Mog',   # oligodendrocytes\n",
    "          'Slco1c1',   # endothelial cells\n",
    "          'Des','Mustn1','Pdgfrb')  #mural cells)"
   ]
  },
  {
   "cell_type": "code",
   "execution_count": 20,
   "metadata": {},
   "outputs": [],
   "source": [
    "if(bool_plot){  \n",
    "    vsd_gen = vsd[rownames(vsd)%in%c('Agrp','Npy','Pomc','Oxt','Avp','Gfap','Iba1','Vim'),] \n",
    "    pheatmap(vsd_gen[,c(1:3,8,4:7,9:12)], \n",
    "             scale=\"row\",\n",
    "             show_rownames=TRUE,\n",
    "             show_colnames=TRUE,\n",
    "             color=my_palette, \n",
    "             cluster_cols=FALSE,\n",
    "             cluster_rows=FALSE,\n",
    "             legend=FALSE,\n",
    "             fontsize=15,\n",
    "             filename=\"results/heatmap_general-markers.pdf\",\n",
    "             width=5,\n",
    "             height=8,\n",
    "             breaks=seq(-2, 2, length.out=255)\n",
    "    ) \n",
    "}"
   ]
  },
  {
   "cell_type": "code",
   "execution_count": 21,
   "metadata": {},
   "outputs": [],
   "source": [
    "if(bool_plot){  \n",
    "    vsd_gen = vsd[rownames(vsd)%in%c('Aldh1l1', 'Aqp4', 'Atp1b2', 'Gfap', 'Gja1', 'Gjb6','S100b','Slc1a2','Slc1a3'),] \n",
    "    pheatmap(vsd_gen[,c(1:3,8,4:7,9:12)], \n",
    "             scale=\"row\",\n",
    "             show_rownames=TRUE,\n",
    "             show_colnames=TRUE,\n",
    "             color=my_palette, \n",
    "             cluster_cols=F,\n",
    "             cluster_rows=F,\n",
    "             legend=FALSE,\n",
    "             fontsize=15,\n",
    "             filename=\"results/heatmap_astocyte-markers.pdf\",\n",
    "             width=5,\n",
    "             height=8,\n",
    "             breaks=seq(-2, 2, length.out=255)\n",
    "    ) \n",
    "}"
   ]
  },
  {
   "cell_type": "code",
   "execution_count": 22,
   "metadata": {},
   "outputs": [],
   "source": [
    "if(bool_plot){  \n",
    "    vsd_gen = vsd[rownames(vsd)%in%c('Snap25', 'Syp', 'Syt1', 'Tubb3'),] \n",
    "    pheatmap(vsd_gen[,c(1:3,8,4:7,9:12)], \n",
    "             scale=\"row\",\n",
    "             show_rownames=TRUE,\n",
    "             show_colnames=TRUE,\n",
    "             color=my_palette, \n",
    "             cluster_cols=F,\n",
    "             cluster_rows=F,\n",
    "             legend=FALSE,\n",
    "             fontsize=15,\n",
    "             filename=\"results/heatmap_neuro-markers.pdf\",\n",
    "             width=5,\n",
    "             height=8,\n",
    "             breaks=seq(-2, 2, length.out=255)\n",
    "    ) \n",
    "}"
   ]
  },
  {
   "cell_type": "code",
   "execution_count": 23,
   "metadata": {},
   "outputs": [],
   "source": [
    "if(bool_plot){  \n",
    "    vsd_gen = vsd[rownames(vsd)%in%c('Aif1', 'Itgam', 'Mag', 'Mog'),] \n",
    "    pheatmap(vsd_gen[,c(1:3,8,4:7,9:12)], \n",
    "             scale=\"row\",\n",
    "             show_rownames=TRUE,\n",
    "             show_colnames=TRUE,\n",
    "             color=my_palette, \n",
    "             cluster_cols=FALSE,\n",
    "             cluster_rows=FALSE,\n",
    "             legend=FALSE,\n",
    "             fontsize=15,\n",
    "             filename=\"results/heatmap_micro&oligo-markers.pdf\",\n",
    "             width=5,\n",
    "             height=8,\n",
    "             breaks=seq(-2, 2, length.out=255)\n",
    "    ) \n",
    "}"
   ]
  },
  {
   "cell_type": "code",
   "execution_count": 24,
   "metadata": {},
   "outputs": [],
   "source": [
    "if(bool_plot){  \n",
    "    vsd_gen = vsd[rownames(vsd)%in%c('Slco1c1', 'Des', 'Mustn1', 'Pdgfrb'),] \n",
    "    pheatmap(vsd_gen[,c(1:3,8,4:7,9:12)], \n",
    "             scale=\"row\",\n",
    "             show_rownames=TRUE,\n",
    "             show_colnames=TRUE,\n",
    "             color=my_palette, \n",
    "             cluster_cols=FALSE,\n",
    "             cluster_rows=FALSE,\n",
    "             legend=FALSE,\n",
    "             fontsize=15,\n",
    "             filename=\"results/heatmap_endo&mural-markers.pdf\",\n",
    "             width=5,\n",
    "             height=8,\n",
    "             breaks=seq(-2, 2, length.out=255)\n",
    "    ) \n",
    "}"
   ]
  },
  {
   "cell_type": "markdown",
   "metadata": {},
   "source": [
    "## GO - enrichment"
   ]
  },
  {
   "cell_type": "markdown",
   "metadata": {},
   "source": [
    "#### DREADD vs. SC"
   ]
  },
  {
   "cell_type": "code",
   "execution_count": 25,
   "metadata": {},
   "outputs": [
    {
     "name": "stderr",
     "output_type": "stream",
     "text": [
      "'select()' returned 1:1 mapping between keys and columns\n",
      "\n",
      "Warning message in bitr(rownames(dge$dread_sc[dge$dread_sc[, 6] < 0.05, ]), fromType = \"SYMBOL\", :\n",
      "“4.2% of input gene IDs are fail to map...”\n"
     ]
    }
   ],
   "source": [
    "sg.dread_sc <- bitr(rownames(dge$dread_sc[dge$dread_sc[,6] < 0.05,]), \n",
    "                    fromType=\"SYMBOL\",\n",
    "                    toType=\"ENTREZID\", \n",
    "                    OrgDb=org.Mm.eg.db\n",
    ")\n",
    "go.dread_sc <- enrichGO(sg.dread_sc[,2],\n",
    "                        'org.Mm.eg.db', \n",
    "                        ont=\"BP\", \n",
    "                        pvalueCutoff=0.1\n",
    ")\n",
    "\n",
    "p <- dotplot(go.dread_sc, \n",
    "             showCategory=30\n",
    ")\n",
    "ggplot2::ggsave(p, \n",
    "                filename=\"results/GO_BP_dread_sc.pdf\", \n",
    "                width=10, \n",
    "                height=10\n",
    ")\n",
    "write.csv(data.frame(go.dread_sc), \n",
    "          file=\"tables/GO_BP_dread_sc.csv\",\n",
    "          row.names=FALSE\n",
    ")"
   ]
  },
  {
   "cell_type": "markdown",
   "metadata": {},
   "source": [
    "#### HFHS vs. SC"
   ]
  },
  {
   "cell_type": "code",
   "execution_count": 26,
   "metadata": {},
   "outputs": [
    {
     "name": "stderr",
     "output_type": "stream",
     "text": [
      "'select()' returned 1:1 mapping between keys and columns\n",
      "\n",
      "Warning message in bitr(rownames(dge$hfhs_sc[dge$hfhs_sc[, 6] < 0.05, ]), fromType = \"SYMBOL\", :\n",
      "“4.14% of input gene IDs are fail to map...”\n"
     ]
    }
   ],
   "source": [
    "sg.hfhs_sc <- bitr(rownames(dge$hfhs_sc[dge$hfhs_sc[,6] < 0.05,]), \n",
    "                    fromType=\"SYMBOL\",\n",
    "                    toType=\"ENTREZID\", \n",
    "                    OrgDb=org.Mm.eg.db\n",
    ")\n",
    "go.hfhs_sc <- enrichGO(sg.hfhs_sc[,2],\n",
    "                       'org.Mm.eg.db', \n",
    "                       ont=\"BP\", \n",
    "                       pvalueCutoff=0.1\n",
    ")\n",
    "p <- dotplot(go.hfhs_sc,\n",
    "             showCategory=30\n",
    ")\n",
    "ggplot2::ggsave(p,\n",
    "                filename=\"results/GO_BP_hfhs_sc.pdf\",\n",
    "                width=10, \n",
    "                height=10\n",
    ")\n",
    "write.csv(data.frame(go.hfhs_sc),\n",
    "                     file=\"tables/GO_BP_hfhs_sc.csv\",\n",
    "                     row.names=FALSE\n",
    ")"
   ]
  },
  {
   "cell_type": "code",
   "execution_count": null,
   "metadata": {},
   "outputs": [],
   "source": []
  },
  {
   "cell_type": "code",
   "execution_count": null,
   "metadata": {},
   "outputs": [],
   "source": []
  }
 ],
 "metadata": {
  "kernelspec": {
   "display_name": "R",
   "language": "R",
   "name": "ir"
  },
  "language_info": {
   "codemirror_mode": "r",
   "file_extension": ".r",
   "mimetype": "text/x-r-source",
   "name": "R",
   "pygments_lexer": "r",
   "version": "4.0.3"
  }
 },
 "nbformat": 4,
 "nbformat_minor": 2
}
